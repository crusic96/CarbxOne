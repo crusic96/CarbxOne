{
 "cells": [
  {
   "cell_type": "markdown",
   "metadata": {},
   "source": [
    "# Introduction (README)"
   ]
  },
  {
   "cell_type": "markdown",
   "metadata": {},
   "source": [
    "The following document outlines the latest designs for the hardware and operations of the Carb-X One wave powered push-pull pump. The pump is the primary component in Carb-X's proposed carbon capture and storage project. Firstly we'll cover the hardware design and its intended operation before calculating expected performance figures.\n"
   ]
  },
  {
   "cell_type": "markdown",
   "metadata": {},
   "source": [
    "## An Overview Carb-X One's Hardware"
   ]
  },
  {
   "cell_type": "markdown",
   "metadata": {},
   "source": [
    "Carb-X One has been designed with a single vision. To achieve the maximum flow rate up to, and down from the surface, to depths between 300m - 1000m, for the lowest available cost. \n",
    "\n",
    "When in its shutdown state the pump appears to be noting more than a standardised shipping container, and meets all ISO standards regarding 40 foot freight containers. The reasoning,  \n",
    "\n",
    "**Contents for the remainder of the cells in this document**"
   ]
  },
  {
   "cell_type": "markdown",
   "metadata": {},
   "source": [
    "## Point Absorber Buoy"
   ]
  },
  {
   "cell_type": "markdown",
   "metadata": {},
   "source": [
    "**Intro** <br>\n",
    "The point absorber is a floating buoy which absorbs energy from all directions through its movements at/near the surface. It coverts the energy of passing waves into tension in the float to diaphragm teather. The point absorber is an imperative part of the pumps design, housing several key systems and providing power to the diphragm. Development started with buoy design based on findings from research journels covering wave and tidal power generation before this design was optimised for weight saving, geometry (for energy transfer) and durability.\n",
    "\n",
    "Lets start with durability since it defines the material that makes up the bulk of the float **TO-DO**\n",
    "\n",
    "To maximise the transfer of energy from the wave to the buoy we have looked at a number of potential geometries including cylindrical (horizontal and vertical), spherical and an angled or 'tulip' design.\n",
    "\n",
    "Minimising the weight of the buoy reduces the ammount of wave energy wasted accelerating its mass. To do this we moved all non-vital systems from their original location of inside the buoy to the accumulator, this included electricity + nitrogen generation and storage systems, computers and an array of sensors. The remaining vital-components include the solar array, communications equiptment, surface sensory array and the molecular-pumps **(could they be relocated to the accumulator)**\n",
    "\n",
    "**Notes:** need an consantly open air port for Nitrogen generation"
   ]
  },
  {
   "cell_type": "markdown",
   "metadata": {},
   "source": [
    "#### Version History"
   ]
  },
  {
   "cell_type": "code",
   "execution_count": 10,
   "metadata": {},
   "outputs": [
    {
     "name": "stdout",
     "output_type": "stream",
     "text": [
      "Version History Table: 1.0 = buoy from research literature\n"
     ]
    }
   ],
   "source": [
    "TEXT = 'Version History Table: 1.0 = buoy from research literature| another version when we remove non-vital systems from the buoy to the accumulator'\n",
    "print(TEXT)"
   ]
  },
  {
   "cell_type": "markdown",
   "metadata": {},
   "source": [
    "#### BOM"
   ]
  },
  {
   "cell_type": "code",
   "execution_count": 9,
   "metadata": {},
   "outputs": [
    {
     "name": "stdout",
     "output_type": "stream",
     "text": [
      "BOM\n"
     ]
    }
   ],
   "source": [
    "TEXT = 'BOM'\n",
    "print(TEXT)"
   ]
  },
  {
   "cell_type": "markdown",
   "metadata": {},
   "source": [
    "#### Assembly"
   ]
  },
  {
   "cell_type": "markdown",
   "metadata": {},
   "source": [
    "Assemble pdf file"
   ]
  },
  {
   "cell_type": "markdown",
   "metadata": {},
   "source": [
    "#### Areas of concern"
   ]
  },
  {
   "cell_type": "markdown",
   "metadata": {},
   "source": [
    "There are some ares of concern:\n",
    " - Durability"
   ]
  },
  {
   "cell_type": "markdown",
   "metadata": {},
   "source": [
    "#### Areas of potential development"
   ]
  },
  {
   "cell_type": "markdown",
   "metadata": {},
   "source": [
    "#### Contents"
   ]
  },
  {
   "cell_type": "code",
   "execution_count": null,
   "metadata": {},
   "outputs": [],
   "source": []
  },
  {
   "cell_type": "markdown",
   "metadata": {},
   "source": [
    "## -----------------------------------------------------------------------------------------------------------"
   ]
  },
  {
   "cell_type": "markdown",
   "metadata": {},
   "source": [
    "### Accumulator"
   ]
  },
  {
   "cell_type": "raw",
   "metadata": {},
   "source": [
    "**Intro**\n",
    "<br> Text"
   ]
  },
  {
   "cell_type": "markdown",
   "metadata": {},
   "source": [
    "#### Version History "
   ]
  },
  {
   "cell_type": "code",
   "execution_count": 6,
   "metadata": {},
   "outputs": [
    {
     "name": "stdout",
     "output_type": "stream",
     "text": [
      "Version History Table\n"
     ]
    }
   ],
   "source": [
    "TEXT = 'Version History Table'\n",
    "print(TEXT)"
   ]
  },
  {
   "cell_type": "markdown",
   "metadata": {},
   "source": [
    "#### BOM"
   ]
  },
  {
   "cell_type": "code",
   "execution_count": 7,
   "metadata": {},
   "outputs": [
    {
     "name": "stdout",
     "output_type": "stream",
     "text": [
      "BOM\n"
     ]
    }
   ],
   "source": [
    "TEXT = 'BOM'\n",
    "print(TEXT)"
   ]
  },
  {
   "cell_type": "markdown",
   "metadata": {},
   "source": [
    "#### Assembly"
   ]
  },
  {
   "cell_type": "markdown",
   "metadata": {},
   "source": [
    "Assembly .PDF File"
   ]
  },
  {
   "cell_type": "markdown",
   "metadata": {},
   "source": [
    "#### Areas of concern"
   ]
  },
  {
   "cell_type": "markdown",
   "metadata": {},
   "source": [
    "There are some areas of concern:\n",
    " - Durability"
   ]
  },
  {
   "cell_type": "markdown",
   "metadata": {},
   "source": [
    "#### Contents"
   ]
  },
  {
   "cell_type": "code",
   "execution_count": null,
   "metadata": {},
   "outputs": [],
   "source": []
  },
  {
   "cell_type": "markdown",
   "metadata": {},
   "source": [
    "## -----------------------------------------------------------------------------------------------------------"
   ]
  },
  {
   "cell_type": "markdown",
   "metadata": {},
   "source": [
    "### Straw"
   ]
  },
  {
   "cell_type": "markdown",
   "metadata": {},
   "source": [
    "**Intro**\n",
    "<br> Text\n"
   ]
  },
  {
   "cell_type": "markdown",
   "metadata": {},
   "source": [
    "#### Version History"
   ]
  },
  {
   "cell_type": "code",
   "execution_count": null,
   "metadata": {},
   "outputs": [],
   "source": [
    "TEXT = 'Version History Table'\n",
    "print(TEXT)"
   ]
  },
  {
   "cell_type": "markdown",
   "metadata": {},
   "source": [
    "#### BOM"
   ]
  },
  {
   "cell_type": "code",
   "execution_count": null,
   "metadata": {},
   "outputs": [],
   "source": [
    "TEXT = 'BOM'\n",
    "print(TEXT)"
   ]
  },
  {
   "cell_type": "markdown",
   "metadata": {},
   "source": [
    "#### Assembly"
   ]
  },
  {
   "cell_type": "markdown",
   "metadata": {},
   "source": [
    "Assembly .pdf file"
   ]
  },
  {
   "cell_type": "markdown",
   "metadata": {},
   "source": [
    "#### Areas of concern"
   ]
  },
  {
   "cell_type": "markdown",
   "metadata": {},
   "source": [
    "There are some areas of concer:\n",
    " - Durability\n",
    " - effects of currents (prove with maths)"
   ]
  },
  {
   "cell_type": "markdown",
   "metadata": {},
   "source": [
    "#### Contents"
   ]
  },
  {
   "cell_type": "code",
   "execution_count": null,
   "metadata": {},
   "outputs": [],
   "source": []
  },
  {
   "cell_type": "markdown",
   "metadata": {},
   "source": [
    "## ----------------------------------------------------------------------------------------------------------- "
   ]
  },
  {
   "cell_type": "markdown",
   "metadata": {},
   "source": [
    "### Moorings"
   ]
  },
  {
   "cell_type": "markdown",
   "metadata": {},
   "source": [
    "**Intro**\n",
    "<br> Text\n",
    "\n",
    "**Version History**\n",
    "<br> Text\n",
    "\n",
    "**BOM**\n",
    "<br> Text\n",
    "\n",
    "**Assembly**\n",
    "<br> Text\n",
    "\n",
    "**Areas of concern**\n",
    "<br> Text\n",
    "\n",
    "**Areas of possable future development**\n",
    "<br> Text"
   ]
  },
  {
   "cell_type": "markdown",
   "metadata": {},
   "source": [
    "### Anchors"
   ]
  },
  {
   "cell_type": "markdown",
   "metadata": {},
   "source": [
    "**Intro**\n",
    "<br> Battrey powered w/ optical data transfer\n",
    "based off of the design of a seaglider<br>\n",
    "http://citeseerx.ist.psu.edu/viewdoc/download?doi=10.1.1.654.5323&rep=rep1&type=pdf\n",
    "\n",
    "**Version History**\n",
    "<br> Text\n",
    "\n",
    "**BOM**\n",
    "<br> Text\n",
    "\n",
    "**Assembly**\n",
    "<br> Text\n",
    "\n",
    "**Areas of concern**\n",
    "<br> Text\n",
    "\n",
    "**Areas of possable future development**\n",
    "<br> Text"
   ]
  },
  {
   "cell_type": "markdown",
   "metadata": {},
   "source": [
    "## Final Assembly"
   ]
  },
  {
   "cell_type": "markdown",
   "metadata": {},
   "source": []
  },
  {
   "cell_type": "markdown",
   "metadata": {},
   "source": [
    "## Operating Procedure "
   ]
  },
  {
   "cell_type": "markdown",
   "metadata": {},
   "source": [
    "A pump has three operating states, standby for when the pump is deployed but not active (pumping water). A push state, for when the pump is moving water from the surface and down the straw and a pull state for when water is being moved in the other direction.\n",
    "\n",
    "\n",
    "push - 2 stroke\n",
    "<br> pull - 2 stroke"
   ]
  },
  {
   "cell_type": "markdown",
   "metadata": {},
   "source": [
    "## Modeling the performance of a Carb-X One"
   ]
  },
  {
   "cell_type": "markdown",
   "metadata": {},
   "source": []
  },
  {
   "cell_type": "markdown",
   "metadata": {},
   "source": [
    "## Operating a cluster of pumps"
   ]
  },
  {
   "cell_type": "markdown",
   "metadata": {},
   "source": []
  },
  {
   "cell_type": "markdown",
   "metadata": {},
   "source": [
    "## Performance of a Carb-X One cluster "
   ]
  },
  {
   "cell_type": "markdown",
   "metadata": {},
   "source": []
  },
  {
   "cell_type": "markdown",
   "metadata": {},
   "source": [
    "# WHEN COMPLETED BREAK THIS FILE DOWN INTO ITS CONSTITUENT FILES AND ADD LINKS TO THE NEXT FILE TO THE BASE OF EACH FILE"
   ]
  }
 ],
 "metadata": {
  "kernelspec": {
   "display_name": "Python 3",
   "language": "python",
   "name": "python3"
  },
  "language_info": {
   "codemirror_mode": {
    "name": "ipython",
    "version": 3
   },
   "file_extension": ".py",
   "mimetype": "text/x-python",
   "name": "python",
   "nbconvert_exporter": "python",
   "pygments_lexer": "ipython3",
   "version": "3.7.3"
  }
 },
 "nbformat": 4,
 "nbformat_minor": 2
}
